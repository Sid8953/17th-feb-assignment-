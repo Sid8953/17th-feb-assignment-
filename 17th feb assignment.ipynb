{
 "cells": [
  {
   "cell_type": "markdown",
   "id": "5f3c66dd-1ad6-49bf-a96b-bdab177b99cd",
   "metadata": {},
   "source": [
    "# ans 1\n",
    "MongoDB is a popular document-oriented NoSQL database that stores data in flexible, JSON-like documents. It is designed for high availability, scalability, and performance, and is commonly used for web, mobile, and IoT applications.\n",
    "\n",
    "Non-relational databases, also known as NoSQL databases, are database management systems that do not use the traditional relational database model that SQL databases use. Instead, NoSQL databases use different data models, such as document-oriented, key-value, column-family, or graph.\n",
    "\n",
    "NoSQL databases are preferred over SQL databases in scenarios where there is a need for high scalability, agility, and flexibility in handling large, unstructured or semi-structured data. This makes NoSQL databases a good choice for use cases such as web analytics, content management systems, real-time data processing, and IoT applications.\n",
    "\n",
    "MongoDB is preferred over SQL databases in scenarios where there is a need for handling large volumes of semi-structured or unstructured data with high availability, performance, and scalability requirements. It is commonly used for use cases such as e-commerce, content management, mobile applications, and real-time analytics.\n",
    "\n",
    "Some specific advantages of MongoDB over SQL databases include its ability to handle unstructured and semi-structured data, its flexible schema, its horizontal scalability, and its support for sharding and replication. Additionally, MongoDB's query language is more similar to modern programming languages, which makes it easier for developers to work with."
   ]
  },
  {
   "cell_type": "markdown",
   "id": "6d030c53-bd55-41b8-a460-30e9cfc35062",
   "metadata": {},
   "source": [
    "# ans 2\n",
    "MongoDB is a popular NoSQL database that offers a range of features that make it a popular choice for developers and organizations looking for a scalable and flexible database solution. Some of the key features of MongoDB include:\n",
    "\n",
    "Document-oriented data model: MongoDB stores data in flexible, JSON-like documents that can vary in structure, making it a good choice for handling semi-structured or unstructured data.\n",
    "High availability and scalability: MongoDB offers high availability and scalability through features such as automatic sharding, replication, and load balancing.\n",
    "Rich query language: MongoDB provides a powerful query language that supports a wide range of queries, including ad hoc queries, range queries, and full-text search.\n",
    "Indexing: MongoDB provides a range of indexing options, including single-field, compound, and multi-key indexes.\n",
    "Aggregation: MongoDB offers a flexible aggregation framework that allows developers to perform advanced data processing and analysis, such as grouping, sorting, and filtering.\n",
    "GridFS: MongoDB offers GridFS, a file storage system that allows developers to store and retrieve large files, such as images and videos, as part of the database.\n",
    "Transactions: MongoDB supports multi-document transactions, allowing developers to perform complex operations that span multiple documents.\n",
    "Security: MongoDB offers a range of security features, such as access control, authentication, and encryption, to ensure the security and integrity of the data stored in the database.\n",
    "Flexibility: MongoDB's flexible data model and schemaless design make it a good choice for rapidly evolving applications and dynamic environments\n",
    "Overall, MongoDB's rich feature set and flexibility make it a popular choice for a wide range of use cases, from mobile and web applications to IoT and real-time analytics."
   ]
  },
  {
   "cell_type": "code",
   "execution_count": null,
   "id": "3d3021ce-72a4-467e-b97d-921523361a17",
   "metadata": {},
   "outputs": [],
   "source": [
    "# ans 3\n",
    "import pymongo\n",
    "client = pymongo.MongoClient(\"mongodb://localhost:27018/\")\n",
    "\n",
    "db = client[\"mydatabase\"]\n",
    "\n",
    "collection = db[\"mycollection\"]\n",
    "\n",
    "document = {\"name\": \"Sid\", \"age\": 30, \"city\": \"New York\"}\n",
    "collection.insert_one(document)\n",
    "\n",
    "query = {\"name\": \"Sid\"}\n",
    "result = collection.find_one(query)\n",
    "print(result)"
   ]
  },
  {
   "cell_type": "code",
   "execution_count": null,
   "id": "29371f39-3c7b-453a-b737-65735ccba9a4",
   "metadata": {},
   "outputs": [],
   "source": [
    "# ans 4\n",
    "import pymongo\n",
    "client = pymongo.MongoClient(\"mongodb://localhost:27018/\")\n",
    "\n",
    "db = client[\"mydatabase\"]\n",
    "collection = db[\"mycollection\"]\n",
    "\n",
    "record_one = {\"name\": \"Sohan\", \"age\": 25, \"city\": \"Rahul\"}\n",
    "result_one = collection.insert_one(record_one)\n",
    "print(\"Inserted record ID:\", result_one.inserted_id)\n",
    "\n",
    "# Insert many records into the collection\n",
    "records_many = [\n",
    "    {\"name\": \"Bimlesh\", \"age\": 30, \"city\": \"New York\"},\n",
    "    {\"name\": \"Chandra\", \"age\": 35, \"city\": \"San Francisco\"},\n",
    "    {\"name\": \"Dinesh\", \"age\": 40, \"city\": \"Boston\"}\n",
    "]\n",
    "result_many = collection.insert_many(records_many)\n",
    "print(\"Inserted records IDs:\", result_many.inserted_ids)\n",
    "\n",
    "query = {\"name\": \"Sohan\"}\n",
    "result = collection.find_one(query)\n",
    "print(\"Found record:\", result)\n",
    "\n",
    "results = collection.find()\n",
    "print(\"All records:\")\n",
    "for result in results:\n",
    "    print(result)"
   ]
  },
  {
   "cell_type": "markdown",
   "id": "71e8f272-a3a1-4e48-b97c-e82a43973f4f",
   "metadata": {},
   "source": [
    "# ans 5\n",
    "The find() method is used to query a MongoDB database for documents that match a specified set of criteria. This method returns a cursor object that can be used to iterate over the matching documents. -->"
   ]
  },
  {
   "cell_type": "code",
   "execution_count": null,
   "id": "a17b0a7d-dbd8-4421-b9db-9d673ea87a19",
   "metadata": {},
   "outputs": [],
   "source": [
    "import pymongo\n",
    "\n",
    "client = pymongo.MongoClient(\"mongodb://localhost:27018/\")\n",
    "\n",
    "db = client[\"mydatabase\"]\n",
    "collection = db[\"mycollection\"]\n",
    "\n",
    "results = collection.find()\n",
    "\n",
    "for result in results:\n",
    "    print(result)"
   ]
  },
  {
   "cell_type": "markdown",
   "id": "a7b92b7a-45b8-483c-8416-69741c632123",
   "metadata": {},
   "source": [
    "# ans 6\n",
    "The sort() method is used to sort the results of a MongoDB query in either ascending or descending order. This method takes one or more key-value pairs that specify the fields to sort by and the order in which to sort them."
   ]
  },
  {
   "cell_type": "code",
   "execution_count": null,
   "id": "8616158a-3dd3-41d9-a761-fb33b9634d0b",
   "metadata": {},
   "outputs": [],
   "source": [
    "import pymongo\n",
    "\n",
    "client = pymongo.MongoClient(\"mongodb://localhost:27018/\")\n",
    "\n",
    "db = client[\"mydatabase\"]\n",
    "collection = db[\"mycollection\"]\n",
    "\n",
    "# Insert some sample documents into the collection\n",
    "collection.insert_many([\n",
    "    {\"name\": \"Alice\", \"age\": 25},\n",
    "    {\"name\": \"Bob\", \"age\": 30},\n",
    "    {\"name\": \"Charlie\", \"age\": 35}\n",
    "])\n",
    "\n",
    "# Sort the documents in the collection by age in ascending order\n",
    "results = collection.find().sort(\"age\", pymongo.ASCENDING)\n",
    "\n",
    "# Print the sorted documents\n",
    "for result in results:\n",
    "    print(result)"
   ]
  }
 ],
 "metadata": {
  "kernelspec": {
   "display_name": "Python 3 (ipykernel)",
   "language": "python",
   "name": "python3"
  },
  "language_info": {
   "codemirror_mode": {
    "name": "ipython",
    "version": 3
   },
   "file_extension": ".py",
   "mimetype": "text/x-python",
   "name": "python",
   "nbconvert_exporter": "python",
   "pygments_lexer": "ipython3",
   "version": "3.10.8"
  }
 },
 "nbformat": 4,
 "nbformat_minor": 5
}
